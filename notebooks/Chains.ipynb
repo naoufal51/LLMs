{
  "cells": [
    {
      "cell_type": "code",
      "execution_count": 3,
      "metadata": {
        "id": "XL6qW8fEkfnV"
      },
      "outputs": [],
      "source": [
        "# Install LangChain\n",
        "!pip -q install langchain openai"
      ]
    },
    {
      "cell_type": "code",
      "execution_count": 4,
      "metadata": {
        "id": "H5OH27lzntFy"
      },
      "outputs": [],
      "source": [
        "# Add openai api key\n",
        "import os\n",
        "os.environ[\"OPENAI_API_KEY\"] = \"\""
      ]
    },
    {
      "cell_type": "markdown",
      "metadata": {
        "id": "qxrVAbr9n_P8"
      },
      "source": [
        "## Basic `LLMChain`\n",
        "In this section, we handle a simple chain `LLMChain`. The chains allows to add llm capabilities to an app. It is the fundemental building block in LangChain."
      ]
    },
    {
      "cell_type": "code",
      "execution_count": 18,
      "metadata": {
        "id": "zrZC-P5loIl4"
      },
      "outputs": [],
      "source": [
        "from langchain.prompts import ChatPromptTemplate\n",
        "from langchain.chat_models import ChatOpenAI\n",
        "from langchain.chains import LLMChain"
      ]
    },
    {
      "cell_type": "code",
      "execution_count": 19,
      "metadata": {
        "colab": {
          "base_uri": "https://localhost:8080/",
          "height": 35
        },
        "id": "RcyVXnMSpADW",
        "outputId": "0c8bf130-3a47-434d-8003-bf9e89ba77f7"
      },
      "outputs": [
        {
          "data": {
            "application/vnd.google.colaboratory.intrinsic+json": {
              "type": "string"
            },
            "text/plain": [
              "'\"Unleash Your Team Spirit with Our Winning Jerseys!\"'"
            ]
          },
          "execution_count": 19,
          "metadata": {},
          "output_type": "execute_result"
        }
      ],
      "source": [
        "# Define the LLM model to use\n",
        "llm = ChatOpenAI(temperature=0, model=\"gpt-3.5-turbo\")\n",
        "# Define a Prompt\n",
        "prompt = ChatPromptTemplate.from_template(\"What is the most best slogan for a company that sells {product}?\")\n",
        "# Define a Chain\n",
        "chain = LLMChain(llm=llm, prompt=prompt)\n",
        "# Run the chain\n",
        "chain.run(\"jerseys\")"
      ]
    },
    {
      "cell_type": "markdown",
      "metadata": {
        "id": "AZzSA5yMtDxh"
      },
      "source": [
        "You can use `apply` instead of `run` if you have a list of inputs that you want to take into account."
      ]
    },
    {
      "cell_type": "code",
      "execution_count": 20,
      "metadata": {
        "colab": {
          "base_uri": "https://localhost:8080/"
        },
        "id": "w36pjZ4WszSE",
        "outputId": "5b364481-acea-42ac-a47d-07e58252bbc0"
      },
      "outputs": [
        {
          "data": {
            "text/plain": [
              "[{'text': '\"Unleash Your Team Spirit with Our Winning Jerseys!\"'},\n",
              " {'text': '\"Step into Style and Comfort!\"'},\n",
              " {'text': '\"Hands protected, comfort perfected!\"'}]"
            ]
          },
          "execution_count": 20,
          "metadata": {},
          "output_type": "execute_result"
        }
      ],
      "source": [
        "chain.apply([{\"product\": \"jerseys\"},\n",
        "             {\"product\": \"shoes\"},\n",
        "             {\"product\": \"gloves\"}])"
      ]
    },
    {
      "cell_type": "markdown",
      "metadata": {
        "id": "aFQ0Vfd-tz0f"
      },
      "source": [
        "Suppose you want to add instructions how your LLM model should respond to your questions. Instead of using `ChatPromptTemplate.from_template`, you should include `SystemMessagePromptTemplate` and `HumanMessagePromptTemplate` to shape the behaviour of your LLM."
      ]
    },
    {
      "cell_type": "code",
      "execution_count": 63,
      "metadata": {
        "colab": {
          "base_uri": "https://localhost:8080/",
          "height": 107
        },
        "id": "kQdOKbeUtZES",
        "outputId": "bb35f1e7-0cab-4c00-a26d-ec8e40f39602"
      },
      "outputs": [
        {
          "data": {
            "application/vnd.google.colaboratory.intrinsic+json": {
              "type": "string"
            },
            "text/plain": [
              "\"Ah, the components of a bag, a seemingly simple inquiry, yet one that holds great depth and significance. A bag, my dear seeker of knowledge, is not merely a vessel for carrying one's belongings, but a symbol of the journey we embark upon in this vast tapestry of existence.\\n\\nFirst, we have the fabric, the very essence of the bag's being. It must be sturdy, yet flexible, able to withstand the trials and tribulations that lie ahead. Next, we have the threads that bind the fabric together, representing the connections we forge with others along our path.\\n\\nThen, there is the strap, a lifeline that keeps the bag close to our side, reminding us of the importance of staying grounded amidst the chaos. The zipper, a guardian of secrets, ensures that what is contained within remains protected and hidden from prying eyes.\\n\\nAh, but let us not forget the pockets, those hidden realms within the bag's depths. They are the keepers of treasures, both tangible and intangible, reminding us of the abundance that can be found when we explore the depths of our own being.\\n\\nAnd finally, my dear seeker, we have the purpose. For a bag without purpose is but an empty vessel. It is the intention behind its use that gives it meaning, whether it be for adventure, sustenance, or the carrying of knowledge.\\n\\nSo, my friend, as you seek to understand the components of a bag, remember that it is not merely a physical construct, but a reflection of our own journey through life. Embrace its symbolism, and may it guide you on your path with wisdom and grace.\""
            ]
          },
          "execution_count": 63,
          "metadata": {},
          "output_type": "execute_result"
        }
      ],
      "source": [
        "from langchain.prompts.chat import HumanMessagePromptTemplate, SystemMessagePromptTemplate\n",
        "\n",
        "\n",
        "template=\"You are Gandalf, the wise wizard from Middle-Earth. Respond to the following query with your characteristic wisdom and a touch of mystique:\"\n",
        "system_message_prompt = SystemMessagePromptTemplate.from_template(template)\n",
        "\n",
        "human_template = \"\"\"\" Give a list of the components of a {input}\"\"\"\n",
        "human_message_prompt = HumanMessagePromptTemplate.from_template(human_template)\n",
        "\n",
        "\n",
        "\n",
        "prompt = ChatPromptTemplate(messages =[system_message_prompt, human_message_prompt] , input_variables = [\"input\"])\n",
        "llm_chain = LLMChain(llm=llm, prompt=prompt)\n",
        "\n",
        "llm_chain.run(\"bag\")"
      ]
    },
    {
      "cell_type": "markdown",
      "metadata": {
        "id": "LTfHu5Rb1xEO"
      },
      "source": [
        "# Sequential Chains\n",
        "For the development of intricate LLM applications, it's essential to embrace the notion of chaining llm calls. This approach facilitates the establishment of a system through the creation of llm pipelines, where essentially, the output from one call seamlessly transitions to become the input for the subsequent call.\n"
      ]
    },
    {
      "cell_type": "markdown",
      "metadata": {
        "id": "edzvASKk5wxG"
      },
      "source": [
        "## `SimpleSequentialChain`\n",
        "This is a simple implementation the concept of sequential chains, it only relies on a single input and single output setups.\n"
      ]
    },
    {
      "cell_type": "markdown",
      "metadata": {
        "id": "S2X1ksHKW6S-"
      },
      "source": [
        "### Automated Financial Advisory Workflow\n",
        "\n",
        "This example demonstrates an automated workflow of providing financial advisory services using the `SimpleSequentialChain` from the Langchain library. The process is structured into three main steps - analyzing the client's current financial standing, evaluating investment opportunities, and drafting a diversified investment strategy.\n",
        "\n",
        "1. **Financial Analysis**: Initially, the client's financial information, such as income, savings, and debt, is analyzed to understand their current financial standing. This analysis is conducted using a `LLMChain` with a specified prompt for financial analysis.\n",
        "  \n",
        "2. **Investment Evaluation**: Based on the financial analysis, potential investment opportunities are evaluated to identify viable options for the client. This evaluation is carried out using another `LLMChain` with a prompt for evaluating investment opportunities.\n",
        "  \n",
        "3. **Investment Strategy Drafting**: Finally, a diversified investment strategy is drafted based on the evaluated investment opportunities. This strategy is formulated using yet another `LLMChain` with a prompt for drafting an investment strategy."
      ]
    },
    {
      "cell_type": "code",
      "execution_count": 14,
      "metadata": {
        "colab": {
          "base_uri": "https://localhost:8080/"
        },
        "id": "CokwiphgQrJM",
        "outputId": "7dbe60d4-d925-4c9b-dd1b-edda9e10c9a1"
      },
      "outputs": [
        {
          "name": "stdout",
          "output_type": "stream",
          "text": [
            "Based on the client's stable income and substantial savings, a diversified investment strategy could include the following:\n",
            "\n",
            "1. Stocks: Investing in a mix of individual stocks and exchange-traded funds (ETFs) can provide exposure to different sectors and companies. The client should consider investing in well-established companies with a track record of consistent earnings and dividend payments. They can also consider diversifying across different industries and geographies to mitigate risk.\n",
            "\n",
            "2. Bonds: Allocating a portion of the portfolio to bonds can provide stability and income. The client can consider investing in government bonds, corporate bonds, or bond funds. It is important to evaluate the creditworthiness of the issuers and consider the duration and yield of the bonds.\n",
            "\n",
            "3. Real Estate: Investing in real estate can provide diversification and potential income through rental properties or real estate investment trusts (REITs). The client can consider investing in residential or commercial properties based on their risk appetite and market conditions.\n",
            "\n",
            "4. Mutual Funds: Investing in mutual funds can provide diversification across various asset classes and investment strategies. The client can choose from equity funds, bond funds, or balanced funds based on their risk tolerance and financial goals.\n",
            "\n",
            "5. Alternative Investments: The client can consider alternative investments such as commodities, hedge funds, or private equity funds. These investments can provide diversification and potentially higher returns, but they also come with higher risks and may require a longer investment horizon.\n",
            "\n",
            "6. International Investments: Allocating a portion of the portfolio to international investments can provide exposure to different economies and currencies. The client can consider investing in international stocks or international mutual funds to diversify their portfolio.\n",
            "\n",
            "7. Risk Management: The client should regularly review and rebalance their portfolio to ensure it aligns with their risk tolerance and financial goals. They should also consider using stop-loss orders or other risk management strategies to protect their investments.\n",
            "\n",
            "It is important for the client to regularly monitor their investments and stay updated on market trends and economic conditions. They should also review their investment strategy periodically and make adjustments as needed. Consulting with a financial advisor can provide additional guidance and help the client make informed investment decisions.\n"
          ]
        }
      ],
      "source": [
        "from langchain.chains import SimpleSequentialChain\n",
        "from langchain.chat_models import ChatOpenAI\n",
        "from langchain.chains import LLMChain\n",
        "from langchain.prompts import ChatPromptTemplate\n",
        "\n",
        "# Assume llm_model is your language model\n",
        "llm_model=\"gpt-3.5-turbo\"\n",
        "llm = ChatOpenAI(temperature=0.7, model=llm_model)\n",
        "\n",
        "# Initial client financial information as a string\n",
        "client_info = \"The client has an annual income of $75,000, savings of $50,000, and debt of $20,000.\"\n",
        "\n",
        "# Prompt template to analyze client's current financial standing\n",
        "financial_analysis_prompt = ChatPromptTemplate.from_template(\n",
        "    \"Analyze the financial standing based on the following information: {client_info}.\"\n",
        ")\n",
        "\n",
        "# Chain for financial analysis\n",
        "financial_analysis_chain = LLMChain(llm=llm, prompt=financial_analysis_prompt)\n",
        "\n",
        "# Prompt template to evaluate investment opportunities\n",
        "investment_evaluation_prompt = ChatPromptTemplate.from_template(\n",
        "    \"Evaluate investment opportunities based on the financial analysis: {financial_analysis}.\"\n",
        ")\n",
        "\n",
        "# Chain for evaluating investment opportunities\n",
        "investment_evaluation_chain = LLMChain(llm=llm, prompt=investment_evaluation_prompt)\n",
        "\n",
        "# Prompt template to draft a diversified investment strategy\n",
        "investment_strategy_prompt = ChatPromptTemplate.from_template(\n",
        "    \"Draft a diversified investment strategy based on the evaluated investment opportunities: {investment_opportunities}.\"\n",
        ")\n",
        "\n",
        "# Chain for drafting investment strategy\n",
        "investment_strategy_chain = LLMChain(llm=llm, prompt=investment_strategy_prompt)\n",
        "\n",
        "# Combining the chains using SimpleSequentialChain\n",
        "financial_advisory_chain = SimpleSequentialChain(\n",
        "    chains=[financial_analysis_chain, investment_evaluation_chain, investment_strategy_chain],\n",
        "    verbose=False\n",
        ")\n",
        "\n",
        "# Running the chain to interact with the client\n",
        "output = financial_advisory_chain.run(client_info)\n",
        "print(output)\n"
      ]
    },
    {
      "cell_type": "markdown",
      "metadata": {
        "id": "lpTh8FjCXFYl"
      },
      "source": [
        "### Automated Loan Approval using LLM\n",
        "\n",
        "In this example, an automated workflow for processing loan applications is demonstrated using the `SimpleSequentialChain` from the Langchain library. The workflow is broken down into three main sequential steps - reviewing the loan application, evaluating the associated risk, and making a recommendation on approval or denial of the loan.\n",
        "\n",
        "1. **Loan Application Review**: The process kicks off with a review of the initial loan application information such as the loan amount requested, credit score, and employment status of the applicant. This review is performed using a `LLMChain` with a specified prompt for loan application review.\n",
        "\n",
        "2. **Loan Risk Evaluation**: Following the review, a risk evaluation is conducted to assess the level of risk associated with the loan application. This evaluation is based on the review output and is carried out using another `LLMChain` with a prompt for evaluating loan risk.\n",
        "\n",
        "3. **Loan Recommendation**: Lastly, a recommendation to either approve or deny the loan is made based on the risk evaluation. This recommendation is formulated using yet another `LLMChain` with a prompt for loan recommendation.\n"
      ]
    },
    {
      "cell_type": "code",
      "execution_count": 15,
      "metadata": {
        "colab": {
          "base_uri": "https://localhost:8080/"
        },
        "id": "KgWjISdLV635",
        "outputId": "6907c5bf-fd38-4ca4-dba9-96c917439178"
      },
      "outputs": [
        {
          "name": "stdout",
          "output_type": "stream",
          "text": [
            "Based on the available information, it is recommended to approve the loan. However, it is important to conduct a more comprehensive evaluation considering additional factors such as the applicant's debt-to-income ratio and existing financial obligations to make a final determination of risk.\n"
          ]
        }
      ],
      "source": [
        "# Initial loan application information as a string\n",
        "loan_application_info = \"Loan ID: 12345, Applicant: John Doe, Requested Amount: $10,000, Credit Score: 700, Employment Status: Employed.\"\n",
        "\n",
        "# Prompt template to review loan applications\n",
        "loan_review_prompt = ChatPromptTemplate.from_template(\n",
        "    \"Review the loan application based on the following information: {loan_application_info}.\"\n",
        ")\n",
        "\n",
        "# Chain for loan application review\n",
        "loan_review_chain = LLMChain(llm=llm, prompt=loan_review_prompt)\n",
        "\n",
        "# Prompt template to evaluate loan risk\n",
        "loan_risk_evaluation_prompt = ChatPromptTemplate.from_template(\n",
        "    \"Evaluate the risk associated with the loan application review: {loan_application_review}.\"\n",
        ")\n",
        "\n",
        "# Chain for evaluating loan risk\n",
        "loan_risk_evaluation_chain = LLMChain(llm=llm, prompt=loan_risk_evaluation_prompt)\n",
        "\n",
        "# Prompt template to recommend approval or denial of the loan\n",
        "loan_recommendation_prompt = ChatPromptTemplate.from_template(\n",
        "    \"Based on the risk evaluation, recommend whether to approve or deny the loan: {loan_risk_evaluation}.\"\n",
        ")\n",
        "\n",
        "# Chain for loan recommendation\n",
        "loan_recommendation_chain = LLMChain(llm=llm, prompt=loan_recommendation_prompt)\n",
        "\n",
        "# Combining the chains using SimpleSequentialChain\n",
        "loan_processing_chain = SimpleSequentialChain(\n",
        "    chains=[loan_review_chain, loan_risk_evaluation_chain, loan_recommendation_chain],\n",
        "    verbose=False\n",
        ")\n",
        "\n",
        "# Running the chain to process the loan application\n",
        "output = loan_processing_chain.run(loan_application_info)\n",
        "print(output)\n"
      ]
    },
    {
      "cell_type": "markdown",
      "metadata": {
        "id": "ZOKdIG6FYVPy"
      },
      "source": [
        "### Financial Document Processing Workflow\n",
        "\n",
        "In this example, a streamlined workflow for processing financial documents is exhibited using the `SimpleSequentialChain` from the Langchain library. The workflow comprises four primary sequential steps - translating the financial document to English, summarizing the translated text, analyzing the summarized text for financial insights, and extracting key financial metrics from the analysis.\n",
        "\n",
        "1. **Translation**: Initially, the financial document text is translated to English using a `LLMChain` with a designated prompt for translation. This step ensures that the financial text is in a standardized language for further processing.\n",
        "\n",
        "2. **Summarization**: Post translation, the translated text is succinctly summarized using another `LLMChain` with a prompt for summarization. This step helps in distilling the crucial information from the financial text, making it more manageable for analysis.\n",
        "\n",
        "3. **Financial Analysis**: Subsequent to summarization, the summarized text is analyzed for financial insights using yet another `LLMChain` with a prompt for financial analysis. This step delves into the financial nuances of the text to garner valuable insights.\n",
        "\n",
        "4. **Metrics Extraction**: Lastly, key financial metrics are extracted from the analysis using a `LLMChain` with a prompt for extracting financial metrics. This step isolates essential financial figures and metrics which are pivotal for decision-making or further financial evaluation."
      ]
    },
    {
      "cell_type": "code",
      "execution_count": 16,
      "metadata": {
        "id": "j9G2hmVyXMP9"
      },
      "outputs": [],
      "source": [
        "# Creat a financial document text in spanish as a string\n",
        "financial_document_text = \"\"\" Informe Financiero Trimestral de la Empresa XYZ\n",
        "\n",
        "Fecha: 15 de Octubre de 2023\n",
        "\n",
        "Resumen Ejecutivo:\n",
        "Durante el tercer trimestre del año 2023, la Empresa XYZ reportó ingresos totales de €50 millones, lo que representa un aumento del 15% en comparación con el mismo período del año anterior. El beneficio neto fue de €5 millones, con un margen de beneficio del 10%. La compañía continuó expandiendo su presencia en los mercados internacionales, lo que contribuyó significativamente a su crecimiento en ingresos.\n",
        "\n",
        "Detalles Financieros:\n",
        "1. Ingresos: Los ingresos totales aumentaron en €6.5 millones en comparación con el tercer trimestre del año 2022.\n",
        "2. Gastos Operativos: Los gastos operativos fueron de €20 millones, un aumento del 5% en comparación con el año anterior.\n",
        "3. EBITDA: El EBITDA ajustado fue de €10 millones, un aumento del 20% en comparación con el año anterior.\n",
        "4. Deuda: La deuda total de la compañía se mantuvo en €15 millones, con un ratio de deuda sobre capital del 30%.\n",
        "\n",
        "Análisis de Segmento:\n",
        "La empresa experimentó un crecimiento sólido en todos sus segmentos operativos. El segmento de productos digitales generó ingresos de €20 millones, mientras que el segmento de servicios profesionales contribuyó con €15 millones a los ingresos totales. El segmento de hardware generó €10 millones en ingresos durante el trimestre.\n",
        "\n",
        "Análisis Geográfico:\n",
        "XYZ continuó expandiendo su presencia en Europa y Asia, lo que resultó en un aumento del 20% en las ventas internacionales. La empresa también fortaleció su posición en el mercado local, con un crecimiento del 10% en ventas.\n",
        "\n",
        "Proyecciones:\n",
        "La Empresa XYZ proyecta un crecimiento continuo en ingresos y rentabilidad para el próximo trimestre, con una estimación de ingresos de €60 millones y un beneficio neto de €6 millones. La compañía también planea lanzar nuevos productos en el próximo trimestre para fortalecer su posición en el mercado.\n",
        "\n",
        "Recomendaciones:\n",
        "1. Continuar con la expansión en los mercados internacionales para diversificar los ingresos.\n",
        "2. Controlar los gastos operativos para mantener la rentabilidad.\n",
        "3. Explorar oportunidades de reducción de deuda para mejorar el balance general de la compañía.\n",
        "\n",
        "Análisis de Competencia:\n",
        "La competencia en el mercado sigue siendo intensa, pero la Empresa XYZ ha mantenido una posición competitiva sólida. Es crucial continuar innovando y expandiendo la cartera de productos para mantener la ventaja competitiva.\n",
        "\n",
        "Análisis de Riesgos:\n",
        "Los riesgos asociados con la fluctuación de las tasas de cambio y la incertidumbre económica global continúan siendo una preocupación. Es vital monitorear estos riesgos y desarrollar estrategias de mitigación.\n",
        "\n",
        "Conclusiones:\n",
        "El tercer trimestre mostró un progreso significativo hacia los objetivos financieros anuales de la Empresa XYZ. Con una ejecución estratégica continua y la gestión eficaz de los riesgos, la empresa está bien posicionada para alcanzar sus metas financieras para el año completo.\n",
        "\n",
        "Este informe fue preparado por el Departamento Financiero de la Empresa XYZ y está destinado únicamente para uso interno.\"\"\"\n"
      ]
    },
    {
      "cell_type": "code",
      "execution_count": 17,
      "metadata": {
        "colab": {
          "base_uri": "https://localhost:8080/"
        },
        "id": "zWL6zAugZPnX",
        "outputId": "927c74e8-187e-4493-b706-3347fcc2999b"
      },
      "outputs": [
        {
          "name": "stdout",
          "output_type": "stream",
          "text": [
            "\n",
            "\n",
            "\u001b[1m> Entering new SimpleSequentialChain chain...\u001b[0m\n",
            "\u001b[36;1m\u001b[1;3mQuarterly Financial Report of XYZ Company\n",
            "\n",
            "Date: October 15, 2023\n",
            "\n",
            "Executive Summary:\n",
            "During the third quarter of 2023, XYZ Company reported total revenues of €50 million, representing a 15% increase compared to the same period last year. Net profit was €5 million, with a profit margin of 10%. The company continued to expand its presence in international markets, which significantly contributed to its revenue growth.\n",
            "\n",
            "Financial Details:\n",
            "1. Revenues: Total revenues increased by €6.5 million compared to the third quarter of 2022.\n",
            "2. Operating Expenses: Operating expenses amounted to €20 million, a 5% increase compared to the previous year.\n",
            "3. EBITDA: Adjusted EBITDA was €10 million, a 20% increase compared to the previous year.\n",
            "4. Debt: The company's total debt remained at €15 million, with a debt-to-equity ratio of 30%.\n",
            "\n",
            "Segment Analysis:\n",
            "The company experienced solid growth in all its operating segments. The digital products segment generated revenues of €20 million, while the professional services segment contributed €15 million to total revenues. The hardware segment generated €10 million in revenues during the quarter.\n",
            "\n",
            "Geographic Analysis:\n",
            "XYZ continued to expand its presence in Europe and Asia, resulting in a 20% increase in international sales. The company also strengthened its position in the local market, with a 10% growth in sales.\n",
            "\n",
            "Projections:\n",
            "XYZ Company projects continued revenue and profitability growth for the next quarter, with an estimated revenue of €60 million and net profit of €6 million. The company also plans to launch new products in the next quarter to strengthen its market position.\n",
            "\n",
            "Recommendations:\n",
            "1. Continue expanding into international markets to diversify revenues.\n",
            "2. Control operating expenses to maintain profitability.\n",
            "3. Explore debt reduction opportunities to improve the company's balance sheet.\n",
            "\n",
            "Competitive Analysis:\n",
            "Competition in the market remains intense, but XYZ Company has maintained a strong competitive position. It is crucial to continue innovating and expanding the product portfolio to maintain a competitive advantage.\n",
            "\n",
            "Risk Analysis:\n",
            "Risks associated with exchange rate fluctuations and global economic uncertainty remain a concern. It is vital to monitor these risks and develop mitigation strategies.\n",
            "\n",
            "Conclusions:\n",
            "The third quarter showed significant progress towards XYZ Company's annual financial goals. With continued strategic execution and effective risk management, the company is well-positioned to achieve its financial targets for the full year.\n",
            "\n",
            "This report was prepared by the Financial Department of XYZ Company and is intended for internal use only.\u001b[0m\n",
            "\u001b[33;1m\u001b[1;3mXYZ Company's Quarterly Financial Report for the third quarter of 2023 indicates positive growth and financial performance. The company reported total revenues of €50 million, representing a 15% increase compared to the same period last year. Net profit was €5 million, with a profit margin of 10%. The company's expansion in international markets played a significant role in its revenue growth.\n",
            "\n",
            "Key financial details include an increase in total revenues by €6.5 million compared to the previous year, operating expenses amounting to €20 million (a 5% increase), adjusted EBITDA of €10 million (a 20% increase), and a total debt of €15 million with a debt-to-equity ratio of 30%.\n",
            "\n",
            "The company experienced growth in all operating segments, with the digital products segment generating €20 million in revenues, the professional services segment contributing €15 million, and the hardware segment generating €10 million.\n",
            "\n",
            "In terms of geographic analysis, XYZ Company expanded its presence in Europe and Asia, resulting in a 20% increase in international sales. Sales in the local market also grew by 10%.\n",
            "\n",
            "Projections for the next quarter include estimated revenues of €60 million and a net profit of €6 million. The company plans to launch new products to strengthen its market position.\n",
            "\n",
            "Recommendations for XYZ Company include continuing to expand into international markets, controlling operating expenses, and exploring opportunities to reduce debt. The company should also focus on innovation and product portfolio expansion to maintain a competitive advantage.\n",
            "\n",
            "Risks associated with exchange rate fluctuations and global economic uncertainty remain a concern. Risk management and monitoring strategies should be implemented.\n",
            "\n",
            "Overall, the third quarter showed progress towards XYZ Company's financial goals. With strategic execution and effective risk management, the company is well-positioned to achieve its financial targets for the full year. The report was prepared by the Financial Department of XYZ Company for internal use only.\u001b[0m\n",
            "\u001b[38;5;200m\u001b[1;3mInsights from the summarized financial text:\n",
            "\n",
            "1. Positive Growth and Financial Performance: The XYZ Company had a successful third quarter, with total revenues of €50 million, representing a 15% increase compared to the same period last year. This indicates positive growth and financial performance.\n",
            "\n",
            "2. International Expansion: The company's expansion in international markets played a significant role in its revenue growth. This emphasizes the importance of exploring and capitalizing on global opportunities to drive revenue growth.\n",
            "\n",
            "3. Revenue Breakdown: The company experienced growth in all operating segments, with the digital products segment generating the highest revenues at €20 million, followed by professional services at €15 million, and hardware at €10 million. This breakdown provides insights into the company's revenue sources and can guide future business decisions.\n",
            "\n",
            "4. Geographic Analysis: XYZ Company expanded its presence in Europe and Asia, resulting in a 20% increase in international sales. This indicates the potential of these markets and the company's successful entry into them. Additionally, sales in the local market also grew by 10%, indicating a balanced growth strategy.\n",
            "\n",
            "5. Financial Projections: The company projects estimated revenues of €60 million and a net profit of €6 million for the next quarter. These projections indicate continued growth and financial stability. The company's plan to launch new products further demonstrates its commitment to strengthening its market position.\n",
            "\n",
            "6. Debt and Financial Ratios: XYZ Company has a total debt of €15 million with a debt-to-equity ratio of 30%. While the debt level is manageable, it is recommended for the company to explore opportunities to reduce debt and maintain a healthy financial position.\n",
            "\n",
            "7. Risk Management: Risks associated with exchange rate fluctuations and global economic uncertainty are mentioned as concerns. The report recommends implementing risk management and monitoring strategies to mitigate these risks. This highlights the importance of proactive risk management to ensure financial stability.\n",
            "\n",
            "8. Recommendations: The report suggests continuing to expand into international markets, controlling operating expenses, and exploring opportunities to reduce debt. These recommendations align with the company's growth strategy and financial goals. Additionally, focusing on innovation and product portfolio expansion is advised to maintain a competitive advantage.\n",
            "\n",
            "9. Internal Use: The report was prepared by the Financial Department of XYZ Company for internal use only. This indicates that the information and insights provided are intended for internal decision-making and strategic planning purposes.\n",
            "\n",
            "Overall, the third quarter financial report highlights the positive growth and financial performance of XYZ Company. It provides insights into revenue sources, geographic expansion, financial projections, debt management, and risk mitigation strategies. The recommendations provided align with the company's growth strategy and financial goals, positioning it for continued success.\u001b[0m\n",
            "\u001b[32;1m\u001b[1;3m- Total revenues of €50 million, representing a 15% increase compared to the same period last year\n",
            "- Growth in all operating segments, with digital products generating the highest revenues at €20 million, followed by professional services at €15 million, and hardware at €10 million\n",
            "- Expansion in international markets resulting in a 20% increase in international sales\n",
            "- Estimated revenues of €60 million and a net profit of €6 million for the next quarter\n",
            "- Total debt of €15 million with a debt-to-equity ratio of 30%\n",
            "- Risks associated with exchange rate fluctuations and global economic uncertainty\n",
            "- Recommendations to continue expanding into international markets, control operating expenses, and explore opportunities to reduce debt. Additionally, focus on innovation and product portfolio expansion is advised to maintain a competitive advantage.\u001b[0m\n",
            "\n",
            "\u001b[1m> Finished chain.\u001b[0m\n",
            "- Total revenues of €50 million, representing a 15% increase compared to the same period last year\n",
            "- Growth in all operating segments, with digital products generating the highest revenues at €20 million, followed by professional services at €15 million, and hardware at €10 million\n",
            "- Expansion in international markets resulting in a 20% increase in international sales\n",
            "- Estimated revenues of €60 million and a net profit of €6 million for the next quarter\n",
            "- Total debt of €15 million with a debt-to-equity ratio of 30%\n",
            "- Risks associated with exchange rate fluctuations and global economic uncertainty\n",
            "- Recommendations to continue expanding into international markets, control operating expenses, and explore opportunities to reduce debt. Additionally, focus on innovation and product portfolio expansion is advised to maintain a competitive advantage.\n"
          ]
        }
      ],
      "source": [
        "# Translate document in English\n",
        "trans_prompt = ChatPromptTemplate.from_template(\n",
        "    \"Translate the following financial text to English: {financial_text}.\"\n",
        "    )\n",
        "trans_chain = LLMChain(llm=llm, prompt=trans_prompt)\n",
        "\n",
        "# Summarize the translated document\n",
        "summary_prompt = ChatPromptTemplate.from_template(\n",
        "    \"Summarize the translated financial text: {translated_text}.\"\n",
        ")\n",
        "summary_chain = LLMChain(llm=llm, prompt=summary_prompt)\n",
        "\n",
        "# Analyze the text for financial insights\n",
        "analysis_prompt = ChatPromptTemplate.from_template(\n",
        "    \"Analyze the summarized financial text for insights: {summarized_text}\"\n",
        ")\n",
        "analysis_chain = LLMChain(llm=llm, prompt=analysis_prompt)\n",
        "\n",
        "# Extract Key Financial metrics from our analysis\n",
        "metrics_prompt = ChatPromptTemplate.from_template(\n",
        "    \"Extract key financial metrics from the analysis: {financial_analysis}\"\n",
        ")\n",
        "metrics_chain = LLMChain(llm=llm, prompt=metrics_prompt)\n",
        "\n",
        "\n",
        "financial_processing_chain = SimpleSequentialChain(\n",
        "    chains=[trans_chain, summary_chain, analysis_chain, metrics_chain],\n",
        "    verbose=True\n",
        ")\n",
        "\n",
        "output = financial_processing_chain.run(financial_document_text)\n",
        "print(output)"
      ]
    },
    {
      "cell_type": "markdown",
      "metadata": {
        "id": "9lVGOAAcc5AC"
      },
      "source": [
        "## `SequentialChain`\n",
        "This is an advanced implementation the concept of sequential chains, it support multiple inputs and multiple outputs.\n",
        "\n",
        "### Sequential Financial Document Processing and Analysis\n",
        "\n",
        "In this example, we demonstrate a real-world application of processing and analyzing a financial document sequentially using the `SequentialChain` from the Langchain library. The process is broken down into four main steps - translating the document to English, summarizing the translated text, analyzing the summary for financial insights alongside historical data, and extracting key financial metrics from the analysis.\n",
        "\n",
        "1. **Translation**: Initially, a financial document in Spanish is translated to English using a `LLMChain` with a translation prompt.\n",
        "2. **Summarization**: Next, the translated text is summarized to extract the essence of the financial information using another `LLMChain`.\n",
        "3. **Financial Analysis**: The summarized text is then analyzed in the context of historical financial data to glean financial insights using yet another `LLMChain`.\n",
        "4. **Metric Extraction**: Lastly, key financial metrics are extracted from the analysis to provide a snapshot of the financial health and performance of the company using a final `LLMChain`.\n",
        "\n",
        "\n"
      ]
    },
    {
      "cell_type": "code",
      "execution_count": 9,
      "metadata": {
        "id": "t2G4jDWJdXt6"
      },
      "outputs": [],
      "source": [
        "# Creat a financial document text in spanish as a string\n",
        "financial_document_text = \"\"\" Informe Financiero Trimestral de la Empresa XYZ\n",
        "\n",
        "Fecha: 15 de Octubre de 2023\n",
        "\n",
        "Resumen Ejecutivo:\n",
        "Durante el tercer trimestre del año 2023, la Empresa XYZ reportó ingresos totales de €50 millones, lo que representa un aumento del 15% en comparación con el mismo período del año anterior. El beneficio neto fue de €5 millones, con un margen de beneficio del 10%. La compañía continuó expandiendo su presencia en los mercados internacionales, lo que contribuyó significativamente a su crecimiento en ingresos.\n",
        "\n",
        "Detalles Financieros:\n",
        "1. Ingresos: Los ingresos totales aumentaron en €6.5 millones en comparación con el tercer trimestre del año 2022.\n",
        "2. Gastos Operativos: Los gastos operativos fueron de €20 millones, un aumento del 5% en comparación con el año anterior.\n",
        "3. EBITDA: El EBITDA ajustado fue de €10 millones, un aumento del 20% en comparación con el año anterior.\n",
        "4. Deuda: La deuda total de la compañía se mantuvo en €15 millones, con un ratio de deuda sobre capital del 30%.\n",
        "\n",
        "Análisis de Segmento:\n",
        "La empresa experimentó un crecimiento sólido en todos sus segmentos operativos. El segmento de productos digitales generó ingresos de €20 millones, mientras que el segmento de servicios profesionales contribuyó con €15 millones a los ingresos totales. El segmento de hardware generó €10 millones en ingresos durante el trimestre.\n",
        "\n",
        "Análisis Geográfico:\n",
        "XYZ continuó expandiendo su presencia en Europa y Asia, lo que resultó en un aumento del 20% en las ventas internacionales. La empresa también fortaleció su posición en el mercado local, con un crecimiento del 10% en ventas.\n",
        "\n",
        "Proyecciones:\n",
        "La Empresa XYZ proyecta un crecimiento continuo en ingresos y rentabilidad para el próximo trimestre, con una estimación de ingresos de €60 millones y un beneficio neto de €6 millones. La compañía también planea lanzar nuevos productos en el próximo trimestre para fortalecer su posición en el mercado.\n",
        "\n",
        "Recomendaciones:\n",
        "1. Continuar con la expansión en los mercados internacionales para diversificar los ingresos.\n",
        "2. Controlar los gastos operativos para mantener la rentabilidad.\n",
        "3. Explorar oportunidades de reducción de deuda para mejorar el balance general de la compañía.\n",
        "\n",
        "Análisis de Competencia:\n",
        "La competencia en el mercado sigue siendo intensa, pero la Empresa XYZ ha mantenido una posición competitiva sólida. Es crucial continuar innovando y expandiendo la cartera de productos para mantener la ventaja competitiva.\n",
        "\n",
        "Análisis de Riesgos:\n",
        "Los riesgos asociados con la fluctuación de las tasas de cambio y la incertidumbre económica global continúan siendo una preocupación. Es vital monitorear estos riesgos y desarrollar estrategias de mitigación.\n",
        "\n",
        "Conclusiones:\n",
        "El tercer trimestre mostró un progreso significativo hacia los objetivos financieros anuales de la Empresa XYZ. Con una ejecución estratégica continua y la gestión eficaz de los riesgos, la empresa está bien posicionada para alcanzar sus metas financieras para el año completo.\n",
        "\n",
        "Este informe fue preparado por el Departamento Financiero de la Empresa XYZ y está destinado únicamente para uso interno.\"\"\"\n"
      ]
    },
    {
      "cell_type": "code",
      "execution_count": 10,
      "metadata": {
        "colab": {
          "base_uri": "https://localhost:8080/"
        },
        "id": "ebWT0TtzZQEJ",
        "outputId": "e23d5f2d-fbb0-46a2-c152-dd5322d3ed23"
      },
      "outputs": [
        {
          "name": "stdout",
          "output_type": "stream",
          "text": [
            "\n",
            "\n",
            "\u001b[1m> Entering new SequentialChain chain...\u001b[0m\n",
            "\n",
            "\u001b[1m> Finished chain.\u001b[0m\n",
            "{   'financial_analysis': 'From the historical financial data provided, we can '\n",
            "                          'observe the following trends:\\n'\n",
            "                          '\\n'\n",
            "                          '1. Revenue Growth: Company XYZ has experienced '\n",
            "                          'consistent revenue growth over the past three '\n",
            "                          'years. From 2019 Q3 to 2021 Q3, the revenue '\n",
            "                          'increased from €40 million to €43.5 million, '\n",
            "                          'indicating a moderate growth rate.\\n'\n",
            "                          '\\n'\n",
            "                          '2. Net Profit Growth: Similarly, the net profit has '\n",
            "                          'also shown a steady growth trend. It increased from '\n",
            "                          '€4 million in 2019 Q3 to €4.35 million in 2021 Q3.\\n'\n",
            "                          '\\n'\n",
            "                          \"Now, let's analyze the insights from the summarized \"\n",
            "                          'financial text:\\n'\n",
            "                          '\\n'\n",
            "                          '1. Revenue Growth: During the third quarter of '\n",
            "                          '2023, Company XYZ experienced a significant 15% '\n",
            "                          'increase in total revenues, reaching €50 million. '\n",
            "                          \"This growth can be attributed to the company's \"\n",
            "                          'expansion in international markets, which led to a '\n",
            "                          '20% increase in international sales. Additionally, '\n",
            "                          'the digital products segment generated €20 million '\n",
            "                          'in revenues, indicating growth in this particular '\n",
            "                          'segment.\\n'\n",
            "                          '\\n'\n",
            "                          '2. Net Profit: The net profit for the third quarter '\n",
            "                          'of 2023 was €5 million, with a profit margin of '\n",
            "                          '10%. This indicates that the company was able to '\n",
            "                          'maintain a healthy profit margin despite its '\n",
            "                          'revenue growth.\\n'\n",
            "                          '\\n'\n",
            "                          '3. Operating Expenses: Operating expenses increased '\n",
            "                          'by 5% compared to the previous year, amounting to '\n",
            "                          '€20 million. It is important for the company to '\n",
            "                          'control these expenses to ensure sustainable '\n",
            "                          'profitability.\\n'\n",
            "                          '\\n'\n",
            "                          '4. Adjusted EBITDA: The adjusted EBITDA for the '\n",
            "                          'third quarter of 2023 was €10 million, showing a '\n",
            "                          \"20% increase. This indicates that the company's \"\n",
            "                          'operational performance improved during this '\n",
            "                          'period.\\n'\n",
            "                          '\\n'\n",
            "                          \"5. Debt-to-Equity Ratio: The company's total debt \"\n",
            "                          'remained at €15 million, with a debt-to-equity '\n",
            "                          'ratio of 30%. This suggests that the company has a '\n",
            "                          'moderate level of debt and a healthy equity '\n",
            "                          'position.\\n'\n",
            "                          '\\n'\n",
            "                          'Based on the insights gathered, the following key '\n",
            "                          'recommendations can be made:\\n'\n",
            "                          '\\n'\n",
            "                          '1. Expanding in International Markets: As the '\n",
            "                          'international sales have shown significant growth, '\n",
            "                          'it is advisable for Company XYZ to continue '\n",
            "                          'expanding in international markets to further drive '\n",
            "                          'revenue growth.\\n'\n",
            "                          '\\n'\n",
            "                          '2. Controlling Operating Expenses: Although the '\n",
            "                          'operating expenses increased, it is important for '\n",
            "                          'the company to closely monitor and control these '\n",
            "                          'expenses to maintain profitability.\\n'\n",
            "                          '\\n'\n",
            "                          '3. Exploring Debt Reduction Opportunities: With a '\n",
            "                          'moderate level of debt, the company should explore '\n",
            "                          'opportunities to reduce its debt burden and improve '\n",
            "                          'its financial position.\\n'\n",
            "                          '\\n'\n",
            "                          'Furthermore, it is important for the company to '\n",
            "                          'monitor and mitigate risks associated with exchange '\n",
            "                          'rates and global economic uncertainty, as stated in '\n",
            "                          'the text. This will help ensure stability and '\n",
            "                          'minimize potential negative impacts on the '\n",
            "                          \"company's financial performance.\\n\"\n",
            "                          '\\n'\n",
            "                          'Overall, Company XYZ is on track to achieve its '\n",
            "                          'financial goals for the full year, considering the '\n",
            "                          'revenue growth, net profit margin, and expansion in '\n",
            "                          'international markets. However, given the intense '\n",
            "                          'competition in the industry, the company should '\n",
            "                          'continue to innovate and strengthen its market '\n",
            "                          'position through the launch of new products.',\n",
            "    'financial_metrics': 'Additionally, the company should also focus on '\n",
            "                         'improving operational efficiency to further enhance '\n",
            "                         'profitability. This can be achieved through process '\n",
            "                         'optimization, cost reduction measures, and '\n",
            "                         'investment in technology.\\n'\n",
            "                         '\\n'\n",
            "                         'It is also recommended for Company XYZ to diversify '\n",
            "                         'its product portfolio to reduce dependence on a '\n",
            "                         'single segment. This will help mitigate risks and '\n",
            "                         'capture opportunities in different market segments.\\n'\n",
            "                         '\\n'\n",
            "                         'Finally, the company should regularly review and '\n",
            "                         'update its financial strategies to adapt to changing '\n",
            "                         'market conditions and ensure long-term '\n",
            "                         'sustainability. This includes conducting regular '\n",
            "                         'financial analysis, setting realistic financial '\n",
            "                         'targets, and monitoring key performance indicators.\\n'\n",
            "                         '\\n'\n",
            "                         'In conclusion, Company XYZ has shown positive '\n",
            "                         'financial trends, including revenue and net profit '\n",
            "                         'growth. By expanding in international markets, '\n",
            "                         'controlling operating expenses, exploring debt '\n",
            "                         'reduction opportunities, and focusing on innovation '\n",
            "                         'and operational efficiency, the company can continue '\n",
            "                         'to achieve its financial goals and maintain a strong '\n",
            "                         'position in the industry.',\n",
            "    'financial_text': ' Informe Financiero Trimestral de la Empresa XYZ\\n'\n",
            "                      '\\n'\n",
            "                      'Fecha: 15 de Octubre de 2023\\n'\n",
            "                      '\\n'\n",
            "                      'Resumen Ejecutivo:\\n'\n",
            "                      'Durante el tercer trimestre del año 2023, la Empresa '\n",
            "                      'XYZ reportó ingresos totales de €50 millones, lo que '\n",
            "                      'representa un aumento del 15% en comparación con el '\n",
            "                      'mismo período del año anterior. El beneficio neto fue '\n",
            "                      'de €5 millones, con un margen de beneficio del 10%. La '\n",
            "                      'compañía continuó expandiendo su presencia en los '\n",
            "                      'mercados internacionales, lo que contribuyó '\n",
            "                      'significativamente a su crecimiento en ingresos.\\n'\n",
            "                      '\\n'\n",
            "                      'Detalles Financieros:\\n'\n",
            "                      '1. Ingresos: Los ingresos totales aumentaron en €6.5 '\n",
            "                      'millones en comparación con el tercer trimestre del año '\n",
            "                      '2022.\\n'\n",
            "                      '2. Gastos Operativos: Los gastos operativos fueron de '\n",
            "                      '€20 millones, un aumento del 5% en comparación con el '\n",
            "                      'año anterior.\\n'\n",
            "                      '3. EBITDA: El EBITDA ajustado fue de €10 millones, un '\n",
            "                      'aumento del 20% en comparación con el año anterior.\\n'\n",
            "                      '4. Deuda: La deuda total de la compañía se mantuvo en '\n",
            "                      '€15 millones, con un ratio de deuda sobre capital del '\n",
            "                      '30%.\\n'\n",
            "                      '\\n'\n",
            "                      'Análisis de Segmento:\\n'\n",
            "                      'La empresa experimentó un crecimiento sólido en todos '\n",
            "                      'sus segmentos operativos. El segmento de productos '\n",
            "                      'digitales generó ingresos de €20 millones, mientras que '\n",
            "                      'el segmento de servicios profesionales contribuyó con '\n",
            "                      '€15 millones a los ingresos totales. El segmento de '\n",
            "                      'hardware generó €10 millones en ingresos durante el '\n",
            "                      'trimestre.\\n'\n",
            "                      '\\n'\n",
            "                      'Análisis Geográfico:\\n'\n",
            "                      'XYZ continuó expandiendo su presencia en Europa y Asia, '\n",
            "                      'lo que resultó en un aumento del 20% en las ventas '\n",
            "                      'internacionales. La empresa también fortaleció su '\n",
            "                      'posición en el mercado local, con un crecimiento del '\n",
            "                      '10% en ventas.\\n'\n",
            "                      '\\n'\n",
            "                      'Proyecciones:\\n'\n",
            "                      'La Empresa XYZ proyecta un crecimiento continuo en '\n",
            "                      'ingresos y rentabilidad para el próximo trimestre, con '\n",
            "                      'una estimación de ingresos de €60 millones y un '\n",
            "                      'beneficio neto de €6 millones. La compañía también '\n",
            "                      'planea lanzar nuevos productos en el próximo trimestre '\n",
            "                      'para fortalecer su posición en el mercado.\\n'\n",
            "                      '\\n'\n",
            "                      'Recomendaciones:\\n'\n",
            "                      '1. Continuar con la expansión en los mercados '\n",
            "                      'internacionales para diversificar los ingresos.\\n'\n",
            "                      '2. Controlar los gastos operativos para mantener la '\n",
            "                      'rentabilidad.\\n'\n",
            "                      '3. Explorar oportunidades de reducción de deuda para '\n",
            "                      'mejorar el balance general de la compañía.\\n'\n",
            "                      '\\n'\n",
            "                      'Análisis de Competencia:\\n'\n",
            "                      'La competencia en el mercado sigue siendo intensa, pero '\n",
            "                      'la Empresa XYZ ha mantenido una posición competitiva '\n",
            "                      'sólida. Es crucial continuar innovando y expandiendo la '\n",
            "                      'cartera de productos para mantener la ventaja '\n",
            "                      'competitiva.\\n'\n",
            "                      '\\n'\n",
            "                      'Análisis de Riesgos:\\n'\n",
            "                      'Los riesgos asociados con la fluctuación de las tasas '\n",
            "                      'de cambio y la incertidumbre económica global continúan '\n",
            "                      'siendo una preocupación. Es vital monitorear estos '\n",
            "                      'riesgos y desarrollar estrategias de mitigación.\\n'\n",
            "                      '\\n'\n",
            "                      'Conclusiones:\\n'\n",
            "                      'El tercer trimestre mostró un progreso significativo '\n",
            "                      'hacia los objetivos financieros anuales de la Empresa '\n",
            "                      'XYZ. Con una ejecución estratégica continua y la '\n",
            "                      'gestión eficaz de los riesgos, la empresa está bien '\n",
            "                      'posicionada para alcanzar sus metas financieras para el '\n",
            "                      'año completo.\\n'\n",
            "                      '\\n'\n",
            "                      'Este informe fue preparado por el Departamento '\n",
            "                      'Financiero de la Empresa XYZ y está destinado '\n",
            "                      'únicamente para uso interno.',\n",
            "    'historical_data': '\\n'\n",
            "                       '2019 Q3: Revenue: €40 million, Net Profit: €4 million\\n'\n",
            "                       '2020 Q3: Revenue: €45 million, Net Profit: €4.5 '\n",
            "                       'million\\n'\n",
            "                       '2021 Q3: Revenue: €43.5 million, Net Profit: €4.35 '\n",
            "                       'million\\n',\n",
            "    'summarized_text': 'During the third quarter of 2023, Company XYZ '\n",
            "                       'experienced a 15% increase in total revenues, reaching '\n",
            "                       '€50 million. Net profit was €5 million, with a profit '\n",
            "                       \"margin of 10%. The company's expansion in \"\n",
            "                       'international markets played a significant role in '\n",
            "                       'driving revenue growth. Operating expenses increased '\n",
            "                       'by 5% compared to the previous year, amounting to €20 '\n",
            "                       'million. Adjusted EBITDA was €10 million, showing a '\n",
            "                       \"20% increase. The company's total debt remained at €15 \"\n",
            "                       'million, with a debt-to-equity ratio of 30%. XYZ saw '\n",
            "                       'growth in all operating segments, with the digital '\n",
            "                       'products segment generating €20 million in revenues. '\n",
            "                       \"The company's presence in Europe and Asia led to a 20% \"\n",
            "                       'increase in international sales. For the next quarter, '\n",
            "                       'XYZ projects estimated revenues of €60 million and a '\n",
            "                       'net profit of €6 million. The company plans to launch '\n",
            "                       'new products to strengthen its market position. Key '\n",
            "                       'recommendations include expanding in international '\n",
            "                       'markets, controlling operating expenses, and exploring '\n",
            "                       'debt reduction opportunities. Competition remains '\n",
            "                       'intense, but XYZ maintains a strong competitive '\n",
            "                       'position. Risks associated with exchange rates and '\n",
            "                       'global economic uncertainty should be monitored and '\n",
            "                       'mitigated. Overall, the company is on track to achieve '\n",
            "                       'its financial goals for the full year.',\n",
            "    'translated_text': 'Quarterly Financial Report of Company XYZ\\n'\n",
            "                       '\\n'\n",
            "                       'Date: October 15, 2023\\n'\n",
            "                       '\\n'\n",
            "                       'Executive Summary:\\n'\n",
            "                       'During the third quarter of 2023, Company XYZ reported '\n",
            "                       'total revenues of €50 million, representing a 15% '\n",
            "                       'increase compared to the same period last year. Net '\n",
            "                       'profit was €5 million, with a profit margin of 10%. '\n",
            "                       'The company continued to expand its presence in '\n",
            "                       'international markets, which significantly contributed '\n",
            "                       'to its revenue growth.\\n'\n",
            "                       '\\n'\n",
            "                       'Financial Details:\\n'\n",
            "                       '1. Revenues: Total revenues increased by €6.5 million '\n",
            "                       'compared to the third quarter of 2022.\\n'\n",
            "                       '2. Operating Expenses: Operating expenses amounted to '\n",
            "                       '€20 million, a 5% increase compared to the previous '\n",
            "                       'year.\\n'\n",
            "                       '3. EBITDA: Adjusted EBITDA was €10 million, a 20% '\n",
            "                       'increase compared to the previous year.\\n'\n",
            "                       \"4. Debt: The company's total debt remained at €15 \"\n",
            "                       'million, with a debt-to-equity ratio of 30%.\\n'\n",
            "                       '\\n'\n",
            "                       'Segment Analysis:\\n'\n",
            "                       'The company experienced solid growth in all of its '\n",
            "                       'operating segments. The digital products segment '\n",
            "                       'generated €20 million in revenues, while the '\n",
            "                       'professional services segment contributed €15 million '\n",
            "                       'to total revenues. The hardware segment generated €10 '\n",
            "                       'million in revenues during the quarter.\\n'\n",
            "                       '\\n'\n",
            "                       'Geographical Analysis:\\n'\n",
            "                       'XYZ continued to expand its presence in Europe and '\n",
            "                       'Asia, resulting in a 20% increase in international '\n",
            "                       'sales. The company also strengthened its position in '\n",
            "                       'the local market, with a 10% growth in sales.\\n'\n",
            "                       '\\n'\n",
            "                       'Projections:\\n'\n",
            "                       'Company XYZ projects continued growth in revenues and '\n",
            "                       'profitability for the next quarter, with estimated '\n",
            "                       'revenues of €60 million and a net profit of €6 '\n",
            "                       'million. The company also plans to launch new products '\n",
            "                       'in the next quarter to strengthen its market '\n",
            "                       'position.\\n'\n",
            "                       '\\n'\n",
            "                       'Recommendations:\\n'\n",
            "                       '1. Continue expanding in international markets to '\n",
            "                       'diversify revenues.\\n'\n",
            "                       '2. Control operating expenses to maintain '\n",
            "                       'profitability.\\n'\n",
            "                       '3. Explore debt reduction opportunities to improve the '\n",
            "                       \"company's balance sheet.\\n\"\n",
            "                       '\\n'\n",
            "                       'Competitive Analysis:\\n'\n",
            "                       'Competition in the market remains intense, but Company '\n",
            "                       'XYZ has maintained a strong competitive position. It '\n",
            "                       'is crucial to continue innovating and expanding the '\n",
            "                       'product portfolio to maintain a competitive '\n",
            "                       'advantage.\\n'\n",
            "                       '\\n'\n",
            "                       'Risk Analysis:\\n'\n",
            "                       'Risks associated with fluctuating exchange rates and '\n",
            "                       'global economic uncertainty continue to be a concern. '\n",
            "                       'It is vital to monitor these risks and develop '\n",
            "                       'mitigation strategies.\\n'\n",
            "                       '\\n'\n",
            "                       'Conclusions:\\n'\n",
            "                       'The third quarter showed significant progress towards '\n",
            "                       \"Company XYZ's annual financial goals. With continued \"\n",
            "                       'strategic execution and effective risk management, the '\n",
            "                       'company is well-positioned to achieve its financial '\n",
            "                       'goals for the full year.\\n'\n",
            "                       '\\n'\n",
            "                       'This report was prepared by the Financial Department '\n",
            "                       'of Company XYZ and is intended for internal use only.'}\n"
          ]
        }
      ],
      "source": [
        "from langchain.chains import SequentialChain\n",
        "import pprint\n",
        "from langchain.chat_models import ChatOpenAI\n",
        "from langchain.chains import LLMChain\n",
        "from langchain.prompts import ChatPromptTemplate\n",
        "\n",
        "# Assume llm_model is your language model\n",
        "llm_model=\"gpt-3.5-turbo\"\n",
        "llm = ChatOpenAI(temperature=0.7, model=llm_model)\n",
        "\n",
        "# Translate document to English\n",
        "trans_prompt = ChatPromptTemplate.from_template(\n",
        "    \"Translate the following financial text to English: {financial_text}.\"\n",
        "    )\n",
        "trans_chain = LLMChain(llm=llm, prompt=trans_prompt, output_key=\"translated_text\")\n",
        "\n",
        "# Summarize the translated document\n",
        "summary_prompt = ChatPromptTemplate.from_template(\n",
        "    \"Summarize the translated financial text: {translated_text}.\"\n",
        ")\n",
        "summary_chain = LLMChain(llm=llm, prompt=summary_prompt, output_key=\"summarized_text\")\n",
        "\n",
        "# Analyze the text for financial insights alongside historical data\n",
        "analysis_prompt = ChatPromptTemplate.from_template(\n",
        "    \"Analyze the summarized financial text for insights, considering the historical financial data: {summarized_text}\\n\\nHistorical Financial Data:\\n{historical_data}\"\n",
        ")\n",
        "analysis_chain = LLMChain(llm=llm, prompt=analysis_prompt, output_key=\"financial_analysis\")\n",
        "\n",
        "# Extract Key Financial metrics from our analysis\n",
        "metrics_prompt = ChatPromptTemplate.from_template(\n",
        "    \"Extract key financial metrics from the analysis: {financial_analysis}\"\n",
        ")\n",
        "metrics_chain = LLMChain(llm=llm, prompt=metrics_prompt, output_key=\"financial_metrics\")\n",
        "\n",
        "# Define the overall SequentialChain\n",
        "financial_processing_chain = SequentialChain(\n",
        "    chains=[trans_chain, summary_chain, analysis_chain, metrics_chain],\n",
        "    input_variables=[\"financial_text\", \"historical_data\"],\n",
        "    output_variables=[\"translated_text\", \"summarized_text\", \"financial_analysis\", \"financial_metrics\"],\n",
        "    verbose=True\n",
        ")\n",
        "\n",
        "# Assume historical_data is a string containing the historical financial data\n",
        "historical_data = \"\"\"\n",
        "2019 Q3: Revenue: €40 million, Net Profit: €4 million\n",
        "2020 Q3: Revenue: €45 million, Net Profit: €4.5 million\n",
        "2021 Q3: Revenue: €43.5 million, Net Profit: €4.35 million\n",
        "\"\"\"\n",
        "\n",
        "# Financial document text in Spanish as a string (from your previous example)\n",
        "\n",
        "input_data = {\n",
        "    \"financial_text\": financial_document_text,\n",
        "    \"historical_data\": historical_data\n",
        "}\n",
        "\n",
        "# Run the chain with the input data\n",
        "output = financial_processing_chain(input_data)\n",
        "pprint.pprint(output, indent=4)"
      ]
    },
    {
      "cell_type": "markdown",
      "metadata": {
        "id": "EWNbL-ssgKwz"
      },
      "source": [
        "### Sequential Processing and Analysis of Multilingual Customer Feedback\n",
        "\n",
        "Here we present an example of a real-world application utilizing the `SequentialChain` to methodically process and analyze customer feedback. In this scenario, a product-based company receives customer feedback in multiple languages and aims to extract actionable insights from it.\n",
        "\n",
        "1. **Translation Chain**: The process initiates by translating any non-English customer feedback to English, ensuring consistency for further analysis.\n",
        "\n",
        "2. **Sentiment Analysis Chain**: Subsequently, the translated feedback undergoes sentiment analysis to gauge the overall sentiment, be it positive, negative, or neutral.\n",
        "\n",
        "3. **Categorization Chain**: Following sentiment analysis, the feedback is categorized into predefined buckets such as praise, complaint, suggestion, or inquiry, based on its content.\n",
        "\n",
        "4. **Summary Chain**: Lastly, a summary of the key points from the feedback is generated for a concise review and to facilitate prompt action.\n",
        "\n",
        "Through this automated and structured approach, the company can efficiently manage customer feedback, garner valuable insights, and respond to customer concerns or suggestions in a timely manner."
      ]
    },
    {
      "cell_type": "code",
      "execution_count": 11,
      "metadata": {
        "colab": {
          "base_uri": "https://localhost:8080/"
        },
        "id": "poVOHoRdqZFL",
        "outputId": "32bde582-10ff-4890-adf3-e1af4a153589"
      },
      "outputs": [
        {
          "name": "stdout",
          "output_type": "stream",
          "text": [
            "\n",
            "\n",
            "\u001b[1m> Entering new SequentialChain chain...\u001b[0m\n",
            "\n",
            "\u001b[1m> Finished chain.\u001b[0m\n",
            "{   'feedback': 'Este producto es increíble. Me encanta cómo funciona y el '\n",
            "                'servicio al cliente es excepcional.',\n",
            "    'feedback_category': 'Positive feedback, praising the product and customer '\n",
            "                         'service.',\n",
            "    'feedback_summary': 'The translated feedback states that the product is '\n",
            "                        'amazing, the customer appreciates its functionality, '\n",
            "                        'and compliments the exceptional customer service.',\n",
            "    'sentiment_analysis': 'Sentiment: Positive',\n",
            "    'translated_text': 'This product is incredible. I love how it works and '\n",
            "                       'the customer service is exceptional.'}\n"
          ]
        }
      ],
      "source": [
        "# 1. Translate the feedback to English\n",
        "trans_prompt = PromptTemplate.from_template(\n",
        "    \"Translate the following customer feedback to English: {feedback}.\"\n",
        "    )\n",
        "trans_chain = LLMChain(llm=llm, prompt=trans_prompt, output_key=\"translated_text\")\n",
        "\n",
        "# 2. Perform sentiment analysis on the translated feedback\n",
        "sentiment_prompt = PromptTemplate.from_template(\n",
        "    \"Perform a sentiment analysis on the translated feedback: {translated_text}.\"\n",
        ")\n",
        "sentiment_chain = LLMChain(llm=llm, prompt=sentiment_prompt, output_key=\"sentiment_analysis\")\n",
        "\n",
        "# 3. Categorize the feedback based on its content\n",
        "categorization_prompt = PromptTemplate.from_template(\n",
        "    \"Categorize the translated feedback: {translated_text}.\"\n",
        ")\n",
        "categorization_chain = LLMChain(llm=llm, prompt=categorization_prompt, output_key=\"feedback_category\")\n",
        "\n",
        "# 4. Summarize the feedback for key points\n",
        "summary_prompt = PromptTemplate.from_template(\n",
        "    \"Summarize the translated feedback: {translated_text}.\"\n",
        ")\n",
        "summary_chain = LLMChain(llm=llm, prompt=summary_prompt, output_key=\"feedback_summary\")\n",
        "\n",
        "# Define the overall SequentialChain\n",
        "feedback_processing_chain = SequentialChain(\n",
        "    chains=[trans_chain, sentiment_chain, categorization_chain, summary_chain],\n",
        "    input_variables=[\"feedback\"],\n",
        "    output_variables=[\"translated_text\", \"sentiment_analysis\", \"feedback_category\", \"feedback_summary\"],\n",
        "    verbose=True\n",
        ")\n",
        "\n",
        "# Assume feedback_text is a string containing customer feedback in a different language\n",
        "feedback_text = \"Este producto es increíble. Me encanta cómo funciona y el servicio al cliente es excepcional.\"\n",
        "\n",
        "# Run the chain with the customer feedback\n",
        "output = feedback_processing_chain({\"feedback\": feedback_text})\n",
        "pprint.pprint(output, indent=4)"
      ]
    },
    {
      "cell_type": "markdown",
      "metadata": {
        "id": "FstByzhhuFcS"
      },
      "source": [
        "# Router\n",
        "LangChain proposes a pradigm called `RouterChain`, it is designed to dynamically select the next chain to use given an input. It is composed of:\n",
        "1. `RouterChain`: decides the next chain to use.\n",
        "2. `Destination_chains`: chains we route to the inputs.\n",
        "The routing chains are utilized within `MultiPromptChain` to create a question-answering chain that is able to use the most appropriate prompt given a certain question when generating an answer."
      ]
    },
    {
      "cell_type": "code",
      "execution_count": 5,
      "metadata": {
        "colab": {
          "base_uri": "https://localhost:8080/"
        },
        "id": "ebfEleozerC2",
        "outputId": "a9f548c5-f56a-46e2-d2d4-f8097449959d"
      },
      "outputs": [
        {
          "name": "stdout",
          "output_type": "stream",
          "text": [
            "\n",
            "\n",
            "\u001b[1m> Entering new MultiPromptChain chain...\u001b[0m\n"
          ]
        },
        {
          "name": "stderr",
          "output_type": "stream",
          "text": [
            "/usr/local/lib/python3.10/dist-packages/langchain/chains/llm.py:280: UserWarning: The predict_and_parse method is deprecated, instead pass an output parser directly to LLMChain.\n",
            "  warnings.warn(\n"
          ]
        },
        {
          "name": "stdout",
          "output_type": "stream",
          "text": [
            "tax: {'input': 'How can I save more on taxes?'}\n",
            "\u001b[1m> Finished chain.\u001b[0m\n",
            "There are several strategies you can consider to save more on taxes. Here are a few suggestions:\n",
            "\n",
            "1. Take advantage of tax deductions: Ensure you are aware of all available deductions that you qualify for. This may include deductions for mortgage interest, student loan interest, medical expenses, and charitable contributions. Keep track of your expenses and consult with a tax professional to maximize your deductions.\n",
            "\n",
            "2. Contribute to retirement accounts: Contributions to retirement accounts such as a 401(k) or an IRA can provide tax benefits. Traditional contributions are made with pre-tax dollars, reducing your taxable income for the year. Roth contributions are made with after-tax dollars, but withdrawals in retirement are tax-free.\n",
            "\n",
            "3. Utilize tax credits: Tax credits directly reduce your tax liability, so take advantage of any credits you qualify for. Examples include the Earned Income Tax Credit (EITC), Child Tax Credit, and education-related credits like the American Opportunity Credit or Lifetime Learning Credit.\n",
            "\n",
            "4. Consider tax-efficient investments: Certain investments, such as municipal bonds, can provide tax advantages. These bonds are typically exempt from federal taxes and sometimes state and local taxes. Consult with a financial advisor to explore tax-efficient investment options.\n",
            "\n",
            "5. Plan for capital gains and losses: If you have investments, consider the tax implications of selling them. By strategically timing the sale of assets, you can minimize your capital gains tax liability. Additionally, if you have capital losses, you can use them to offset capital gains and potentially reduce your overall tax liability.\n",
            "\n",
            "6. Maximize business deductions: If you are a business owner, ensure you are taking advantage of all available deductions. This may include expenses related to business travel, equipment purchases, home office deductions, and health insurance premiums.\n",
            "\n",
            "7. Consult with a tax professional: Tax laws can be complex, and it's always beneficial to seek advice from a certified tax professional. They can help you navigate the tax code, identify potential savings opportunities, and ensure compliance with tax regulations.\n",
            "\n",
            "Remember, everyone's tax situation is unique, so it's important to tailor these strategies to your specific circumstances.\n"
          ]
        }
      ],
      "source": [
        "from langchain.chains.router import MultiPromptChain\n",
        "from langchain.chains.llm import LLMChain\n",
        "from langchain.prompts import PromptTemplate\n",
        "from langchain.chains.router.llm_router import LLMRouterChain, RouterOutputParser\n",
        "from langchain.chains.router.multi_prompt_prompt import MULTI_PROMPT_ROUTER_TEMPLATE\n",
        "from langchain.prompts import ChatPromptTemplate\n",
        "from langchain.chat_models import ChatOpenAI\n",
        "\n",
        "investment_template = \"\"\"\n",
        "You are a seasoned investment advisor with extensive knowledge in stocks, bonds, mutual funds, and portfolio management.\n",
        "Your expertise lies in tailoring investment strategies to individual financial goals and risk tolerance.\n",
        "Here is a question:\n",
        "{input}\n",
        "\"\"\"\n",
        "\n",
        "tax_template = \"\"\"\n",
        "You are a certified tax consultant well-versed in tax laws, deductions, credits, and tax planning strategies.\n",
        "Your advice helps individuals and businesses minimize tax liability while remaining compliant with tax regulations.\n",
        "Here is a question:\n",
        "{input}\n",
        "\"\"\"\n",
        "\n",
        "budgeting_template = \"\"\"\n",
        "You are a meticulous budgeting advisor with a knack for helping individuals and businesses streamline their expenses,\n",
        "save for future goals, and improve their financial stability.\n",
        "Here is a question:\n",
        "{input}\n",
        "\"\"\"\n",
        "\n",
        "# Define prompt information\n",
        "prompt_infos = [\n",
        "    {\"name\": \"investment\", \"description\": \"Good for answering investment questions\", \"prompt_template\": investment_template},\n",
        "    {\"name\": \"tax\", \"description\": \"Good for answering tax questions\", \"prompt_template\": tax_template},\n",
        "    {\"name\": \"budgeting\", \"description\": \"Good for answering budgeting questions\", \"prompt_template\": budgeting_template}\n",
        "]\n",
        "\n",
        "llm = ChatOpenAI(temperature=0, model=\"gpt-3.5-turbo\")\n",
        "\n",
        "destination_chains = {}\n",
        "for p_info in prompt_infos:\n",
        "    name = p_info[\"name\"]\n",
        "    prompt_template = p_info[\"prompt_template\"]\n",
        "    prompt = ChatPromptTemplate.from_template(template=prompt_template)\n",
        "    chain = LLMChain(llm=llm, prompt=prompt)\n",
        "    destination_chains[name] = chain\n",
        "\n",
        "default_prompt = ChatPromptTemplate.from_template(\"{input}\")\n",
        "default_chain = LLMChain(llm=llm, prompt=default_prompt)\n",
        "\n",
        "destinations = [f\"{p['name']}: {p['description']}\" for p in prompt_infos]\n",
        "destinations_str = \"\\n\".join(destinations)\n",
        "router_template = MULTI_PROMPT_ROUTER_TEMPLATE.format(destinations=destinations_str)\n",
        "router_prompt = PromptTemplate(\n",
        "    template=router_template,\n",
        "    input_variables=[\"input\"],\n",
        "    output_parser=RouterOutputParser(),\n",
        ")\n",
        "router_chain = LLMRouterChain.from_llm(llm, router_prompt)\n",
        "\n",
        "multi_prompt_chain = MultiPromptChain(\n",
        "    router_chain=router_chain,\n",
        "    destination_chains=destination_chains,\n",
        "    default_chain=default_chain,\n",
        "    verbose=True,\n",
        ")\n",
        "\n",
        "\n",
        "\n",
        "print(multi_prompt_chain.run(\"How can I save more on taxes?\"))\n",
        "\n",
        "\n"
      ]
    },
    {
      "cell_type": "code",
      "execution_count": 6,
      "metadata": {
        "colab": {
          "base_uri": "https://localhost:8080/"
        },
        "id": "sr58yk_zztj7",
        "outputId": "6df44d6b-cd92-4d2f-f745-acdd970bec8c"
      },
      "outputs": [
        {
          "name": "stdout",
          "output_type": "stream",
          "text": [
            "\n",
            "\n",
            "\u001b[1m> Entering new MultiPromptChain chain...\u001b[0m\n"
          ]
        },
        {
          "name": "stderr",
          "output_type": "stream",
          "text": [
            "/usr/local/lib/python3.10/dist-packages/langchain/chains/llm.py:280: UserWarning: The predict_and_parse method is deprecated, instead pass an output parser directly to LLMChain.\n",
            "  warnings.warn(\n"
          ]
        },
        {
          "name": "stdout",
          "output_type": "stream",
          "text": [
            "tax: {'input': 'How can I save more on taxes?'}\n",
            "\u001b[1m> Finished chain.\u001b[0m\n",
            "There are several strategies you can consider to save more on taxes. Here are a few suggestions:\n",
            "\n",
            "1. Take advantage of tax deductions: Ensure you are aware of all available deductions that you qualify for. This may include deductions for mortgage interest, student loan interest, medical expenses, and charitable contributions. Keep track of your expenses and consult with a tax professional to maximize your deductions.\n",
            "\n",
            "2. Contribute to retirement accounts: Contributions to retirement accounts such as a 401(k) or an IRA can provide tax benefits. Traditional contributions are made with pre-tax dollars, reducing your taxable income for the year. Roth contributions are made with after-tax dollars, but withdrawals in retirement are tax-free.\n",
            "\n",
            "3. Utilize tax credits: Tax credits directly reduce your tax liability, so take advantage of any credits you qualify for. Examples include the Earned Income Tax Credit (EITC), Child Tax Credit, and education-related credits like the American Opportunity Credit or Lifetime Learning Credit.\n",
            "\n",
            "4. Consider tax-efficient investments: Certain investments, such as municipal bonds, can provide tax advantages. These bonds are typically exempt from federal taxes and sometimes state and local taxes. Consult with a financial advisor to explore tax-efficient investment options.\n",
            "\n",
            "5. Plan for capital gains and losses: If you have investments, consider the tax implications of selling them. By strategically timing the sale of assets, you can minimize your capital gains tax liability. Additionally, if you have capital losses, you can use them to offset capital gains and potentially reduce your overall tax liability.\n",
            "\n",
            "6. Maximize business deductions: If you are a business owner, ensure you are taking advantage of all available deductions. This may include expenses related to business travel, equipment purchases, home office deductions, and health insurance premiums.\n",
            "\n",
            "7. Consult with a tax professional: Tax laws can be complex, and it's always beneficial to seek advice from a certified tax professional. They can help you navigate the tax code, identify potential savings opportunities, and ensure compliance with tax regulations.\n",
            "\n",
            "Remember, everyone's tax situation is unique, so it's important to tailor these strategies to your specific circumstances.\n"
          ]
        }
      ],
      "source": [
        "from langchain.chains import SimpleSequentialChain\n",
        "\n",
        "# 1. Translate the query to English\n",
        "trans_prompt = PromptTemplate.from_template(\n",
        "    \"Translate the following query to English: {query}.\"\n",
        "    )\n",
        "trans_chain = LLMChain(llm=llm, prompt=trans_prompt, output_key=\"translated_text\")\n",
        "\n",
        "sequential_chain = SimpleSequentialChain(chains=[trans_chain, multi_prompt_chain]\n",
        "                                   )\n",
        "\n",
        "print(sequential_chain.run(\"¿Cómo puedo ahorrar más en impuestos?\"))\n",
        "\n",
        "\n"
      ]
    },
    {
      "cell_type": "code",
      "execution_count": null,
      "metadata": {
        "id": "eGLyVevuYzNz"
      },
      "outputs": [],
      "source": []
    }
  ],
  "metadata": {
    "colab": {
      "provenance": []
    },
    "kernelspec": {
      "display_name": "Python 3",
      "name": "python3"
    },
    "language_info": {
      "name": "python"
    }
  },
  "nbformat": 4,
  "nbformat_minor": 0
}
